{
  "nbformat": 4,
  "nbformat_minor": 0,
  "metadata": {
    "colab": {
      "name": "CrystalL_Lab5.ipynb",
      "provenance": [],
      "collapsed_sections": [],
      "mount_file_id": "1DBriZoDVsmeP-DFczDbTGvbUY9bhQVqN",
      "authorship_tag": "ABX9TyN+7KXR1oUTHgm84yVRdOpG",
      "include_colab_link": true
    },
    "kernelspec": {
      "name": "python3",
      "display_name": "Python 3"
    },
    "language_info": {
      "name": "python"
    }
  },
  "cells": [
    {
      "cell_type": "markdown",
      "metadata": {
        "id": "view-in-github",
        "colab_type": "text"
      },
      "source": [
        "<a href=\"https://colab.research.google.com/github/clamas96/CrystalL_Lab5/blob/main/CrystalL_Lab5.ipynb\" target=\"_parent\"><img src=\"https://colab.research.google.com/assets/colab-badge.svg\" alt=\"Open In Colab\"/></a>"
      ]
    },
    {
      "cell_type": "code",
      "execution_count": 1,
      "metadata": {
        "colab": {
          "base_uri": "https://localhost:8080/"
        },
        "id": "xKdpGOBmpKOK",
        "outputId": "3382af28-2f8c-4f9f-fc15-94ea93082312"
      },
      "outputs": [
        {
          "output_type": "stream",
          "name": "stdout",
          "text": [
            "       reason                         description  frequency\n",
            "0         ERP                    myIllinoinsState          7\n",
            "1         VPN                connection from home         10\n",
            "2       email                   unable to message         18\n",
            "3         PCs  office computers for staff/faculty         12\n",
            "4     printer                     unable to print         10\n",
            "5    internet                   connection issues         22\n",
            "6   ReggieNet            issues accesing features          8\n",
            "7      mobile       mobile devices not connecting         14\n",
            "8    password               password reset issues         11\n",
            "9        VoIP  phone / voice message difficulties         15\n",
            "10   hardware             general hardware issues         25\n",
            "11  Office365             question accessing apps         13\n"
          ]
        }
      ],
      "source": [
        "import pandas as pd\n",
        "import matplotlib.pyplot as plt\n",
        "from matplotlib.ticker import PercentFormatter\n",
        "\n",
        "#upload the HelpDesk.csv to your Google Drive\n",
        "df=pd.read_csv(\"/content/drive/MyDrive/HelpDesk.csv\")\n",
        "print(df)"
      ]
    },
    {
      "cell_type": "code",
      "source": [
        "#set this column as index - to use as plot labels\n",
        "df.index=df['reason']\n",
        "#descending sort\n",
        "df=df.sort_values(by='frequency',ascending=False)\n",
        "\n",
        "#cumulative percentage column is created using cumsum function\n",
        "df[\"cumulativePercentage\"]=df[\"frequency\"].cumsum()/df[\"frequency\"].sum()*100\n",
        "\n",
        "#making sure only 2 decimal points are shown\n",
        "df[\"cumulativePercentage\"]=df[\"cumulativePercentage\"].apply(lambda x: round(x,2))\n",
        "print(df)"
      ],
      "metadata": {
        "colab": {
          "base_uri": "https://localhost:8080/"
        },
        "id": "ntMagOMUrJv9",
        "outputId": "c939d8e3-9d24-4791-a6b6-8d823630f687"
      },
      "execution_count": 2,
      "outputs": [
        {
          "output_type": "stream",
          "name": "stdout",
          "text": [
            "              reason  ... cumulativePercentage\n",
            "reason                ...                     \n",
            "hardware    hardware  ...                15.15\n",
            "internet    internet  ...                28.48\n",
            "email          email  ...                39.39\n",
            "VoIP            VoIP  ...                48.48\n",
            "mobile        mobile  ...                56.97\n",
            "Office365  Office365  ...                64.85\n",
            "PCs              PCs  ...                72.12\n",
            "password    password  ...                78.79\n",
            "VPN              VPN  ...                84.85\n",
            "printer      printer  ...                90.91\n",
            "ReggieNet  ReggieNet  ...                95.76\n",
            "ERP              ERP  ...               100.00\n",
            "\n",
            "[12 rows x 4 columns]\n"
          ]
        }
      ]
    },
    {
      "cell_type": "code",
      "source": [
        "fig, ax=plt.subplots()\n",
        "ax.bar(df.index,df[\"frequency\"], color=\"C4\")\n",
        "\n",
        "#show labels diagonally\n",
        "ax.set_xticklabels(df['reason'],rotation=45)\n",
        "\n",
        "#ax2 and ax1 will be shown at the same time with twinx\n",
        "ax2=ax.twinx()\n",
        "\n",
        "ax2.plot(df.index,df[\"cumulativePercentage\"],color=\"C\",marker=\"D\",ms=7)\n",
        "ax2.yaxis.set_major_formatter(PercentFormatter())\n",
        "\n",
        "ax.tick_params(axis=\"y\",colors=\"C4\")\n",
        "ax2.tick_params(axis=\"y\",colors=\"C\")\n",
        "plt.xticks(rotation=45,ha=\"right\")\n",
        "plt.show()"
      ],
      "metadata": {
        "colab": {
          "base_uri": "https://localhost:8080/",
          "height": 299
        },
        "id": "F95a0BA6sjwq",
        "outputId": "b71bb020-c59a-46be-b05c-5957391c52b5"
      },
      "execution_count": 10,
      "outputs": [
        {
          "output_type": "display_data",
          "data": {
            "image/png": "[encoded data removed]",
            "text/plain": [
              "<Figure size 432x288 with 2 Axes>"
            ]
          },
          "metadata": {}
        }
      ]
    }
  ]
}